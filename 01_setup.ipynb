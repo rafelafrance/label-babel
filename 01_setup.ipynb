{
 "cells": [
  {
   "cell_type": "code",
   "execution_count": 1,
   "metadata": {},
   "outputs": [
    {
     "name": "stdout",
     "output_type": "stream",
     "text": [
      "2019-06-20T09:44:53-04:00\n",
      "\n",
      "CPython 3.7.3\n",
      "IPython 7.5.0\n",
      "\n",
      "compiler   : GCC 8.3.0\n",
      "system     : Linux\n",
      "release    : 5.0.0-15-generic\n",
      "machine    : x86_64\n",
      "processor  : x86_64\n",
      "CPU cores  : 12\n",
      "interpreter: 64bit\n"
     ]
    }
   ],
   "source": [
    "%matplotlib inline\n",
    "%reload_ext autoreload\n",
    "%autoreload 2\n",
    "\n",
    "%load_ext watermark\n",
    "%watermark"
   ]
  },
  {
   "cell_type": "code",
   "execution_count": 2,
   "metadata": {},
   "outputs": [],
   "source": [
    "from pathlib import Path\n",
    "from shutil import copyfile, rmtree\n",
    "import json\n",
    "import pdb\n",
    "import pandas as pd\n",
    "from ipywidgets import interact\n",
    "from PIL import Image, ImageDraw\n",
    "import matplotlib.pyplot as plt\n",
    "import matplotlib.patches as patches"
   ]
  },
  {
   "cell_type": "markdown",
   "metadata": {},
   "source": [
    "Constants allow for smoother editing."
   ]
  },
  {
   "cell_type": "code",
   "execution_count": 3,
   "metadata": {},
   "outputs": [],
   "source": [
    "DATA_DIR = Path('.') / 'data'\n",
    "IMG_DIR = DATA_DIR / 'images'\n",
    "EXP_DIR = DATA_DIR / 'expedition'\n",
    "VAL_DIR = DATA_DIR / 'valid'\n",
    "TRN_DIR = DATA_DIR / 'train'\n",
    "\n",
    "RECON_CSV = EXP_DIR / '8296_label_babel.reconciled.csv'\n",
    "TRN_CSV = DATA_DIR / 'train.csv'\n",
    "VAL_CSV = DATA_DIR / 'valid.csv'\n",
    "\n",
    "BOX = 'box'\n",
    "CAT = 'category'\n",
    "ORI = 'original'\n",
    "PATH = 'path'\n",
    "CLASS = 'class'\n",
    "SUB_ID = 'subject_id'\n",
    "\n",
    "LFT = 'left'\n",
    "RGT = 'right'\n",
    "TOP = 'top'\n",
    "BOT = 'bottom'\n",
    "\n",
    "TYPEWRITTEN = 'typewritten'\n",
    "HANDWRITTEN = 'handwritten'\n",
    "\n",
    "SEED = 23"
   ]
  },
  {
   "cell_type": "code",
   "execution_count": 4,
   "metadata": {},
   "outputs": [],
   "source": [
    "SCALE = 0.25\n",
    "\n",
    "\n",
    "def scale(value):\n",
    "    return int(round(value * SCALE))"
   ]
  },
  {
   "cell_type": "code",
   "execution_count": 5,
   "metadata": {},
   "outputs": [],
   "source": [
    "def box_as_array(box):\n",
    "    box = json.loads(box)\n",
    "    return [\n",
    "        scale(box[LFT]),  # x0\n",
    "        scale(box[TOP]),  # y0\n",
    "        scale(box[RGT]),  # x1\n",
    "        scale(box[BOT])]  # y1"
   ]
  },
  {
   "cell_type": "markdown",
   "metadata": {},
   "source": [
    "Reshape the input (reconciled) data into a form that is easier to work with."
   ]
  },
  {
   "cell_type": "code",
   "execution_count": 6,
   "metadata": {},
   "outputs": [
    {
     "name": "stdout",
     "output_type": "stream",
     "text": [
      "Shape before drop: 6086, 6\n",
      "Shape after drop:  6081, 6\n"
     ]
    }
   ],
   "source": [
    "box_header = 'Rectangle around the primary label.: box'\n",
    "cat_header = 'Rectangle around the primary label.: select'\n",
    "\n",
    "df = pd.read_csv(RECON_CSV)\n",
    "\n",
    "df = df.rename(columns={box_header: BOX, cat_header: CAT})\n",
    "\n",
    "df[ORI] = df[SUB_ID].apply(lambda x: IMG_DIR.joinpath(f'{x}.jpg'))\n",
    "\n",
    "df[BOX] = df[BOX].apply(box_as_array)\n",
    "\n",
    "df[CLASS] = None\n",
    "df[PATH] = None\n",
    "\n",
    "df = df.loc[:, [SUB_ID, CAT, CLASS, BOX, PATH, ORI]]\n",
    "\n",
    "print('Shape before drop: {}, {}'.format(*df.shape))\n",
    "df = df.dropna(subset=[CAT])\n",
    "print('Shape after drop:  {}, {}'.format(*df.shape))"
   ]
  },
  {
   "cell_type": "markdown",
   "metadata": {},
   "source": [
    "Update the categories in the data frame."
   ]
  },
  {
   "cell_type": "code",
   "execution_count": 7,
   "metadata": {},
   "outputs": [
    {
     "data": {
      "text/plain": [
       "typewritten    4808\n",
       "handwritten    1273\n",
       "Name: category, dtype: int64"
      ]
     },
     "execution_count": 7,
     "metadata": {},
     "output_type": "execute_result"
    }
   ],
   "source": [
    "all_hand = 'All handwritten'\n",
    "all_type = 'All typewritten'\n",
    "both = 'Both typewritten and handwritten'\n",
    "\n",
    "df.loc[df[CAT] == all_type, CAT] = TYPEWRITTEN\n",
    "df.loc[df[CAT] == all_hand, CAT] = HANDWRITTEN\n",
    "df.loc[df[CAT] == both, CAT] = HANDWRITTEN\n",
    "\n",
    "df[CAT].value_counts()"
   ]
  },
  {
   "cell_type": "code",
   "execution_count": 8,
   "metadata": {},
   "outputs": [],
   "source": [
    "classes = {x: i for i, x in enumerate(sorted(df[CAT].unique()), 1)}\n",
    "\n",
    "df[CLASS] = df[CAT].map(classes)"
   ]
  },
  {
   "cell_type": "code",
   "execution_count": 9,
   "metadata": {},
   "outputs": [
    {
     "data": {
      "text/html": [
       "<div>\n",
       "<style scoped>\n",
       "    .dataframe tbody tr th:only-of-type {\n",
       "        vertical-align: middle;\n",
       "    }\n",
       "\n",
       "    .dataframe tbody tr th {\n",
       "        vertical-align: top;\n",
       "    }\n",
       "\n",
       "    .dataframe thead th {\n",
       "        text-align: right;\n",
       "    }\n",
       "</style>\n",
       "<table border=\"1\" class=\"dataframe\">\n",
       "  <thead>\n",
       "    <tr style=\"text-align: right;\">\n",
       "      <th></th>\n",
       "      <th>subject_id</th>\n",
       "      <th>category</th>\n",
       "      <th>class</th>\n",
       "      <th>box</th>\n",
       "      <th>path</th>\n",
       "      <th>original</th>\n",
       "    </tr>\n",
       "  </thead>\n",
       "  <tbody>\n",
       "    <tr>\n",
       "      <th>0</th>\n",
       "      <td>2995193</td>\n",
       "      <td>typewritten</td>\n",
       "      <td>2</td>\n",
       "      <td>[258, 365, 383, 448]</td>\n",
       "      <td>None</td>\n",
       "      <td>data/images/2995193.jpg</td>\n",
       "    </tr>\n",
       "    <tr>\n",
       "      <th>1</th>\n",
       "      <td>2995194</td>\n",
       "      <td>typewritten</td>\n",
       "      <td>2</td>\n",
       "      <td>[270, 380, 380, 454]</td>\n",
       "      <td>None</td>\n",
       "      <td>data/images/2995194.jpg</td>\n",
       "    </tr>\n",
       "    <tr>\n",
       "      <th>2</th>\n",
       "      <td>2995195</td>\n",
       "      <td>typewritten</td>\n",
       "      <td>2</td>\n",
       "      <td>[266, 381, 380, 455]</td>\n",
       "      <td>None</td>\n",
       "      <td>data/images/2995195.jpg</td>\n",
       "    </tr>\n",
       "    <tr>\n",
       "      <th>3</th>\n",
       "      <td>2995196</td>\n",
       "      <td>typewritten</td>\n",
       "      <td>2</td>\n",
       "      <td>[262, 375, 380, 454]</td>\n",
       "      <td>None</td>\n",
       "      <td>data/images/2995196.jpg</td>\n",
       "    </tr>\n",
       "    <tr>\n",
       "      <th>4</th>\n",
       "      <td>2995197</td>\n",
       "      <td>typewritten</td>\n",
       "      <td>2</td>\n",
       "      <td>[274, 379, 380, 452]</td>\n",
       "      <td>None</td>\n",
       "      <td>data/images/2995197.jpg</td>\n",
       "    </tr>\n",
       "  </tbody>\n",
       "</table>\n",
       "</div>"
      ],
      "text/plain": [
       "   subject_id     category  class                   box  path  \\\n",
       "0     2995193  typewritten      2  [258, 365, 383, 448]  None   \n",
       "1     2995194  typewritten      2  [270, 380, 380, 454]  None   \n",
       "2     2995195  typewritten      2  [266, 381, 380, 455]  None   \n",
       "3     2995196  typewritten      2  [262, 375, 380, 454]  None   \n",
       "4     2995197  typewritten      2  [274, 379, 380, 452]  None   \n",
       "\n",
       "                  original  \n",
       "0  data/images/2995193.jpg  \n",
       "1  data/images/2995194.jpg  \n",
       "2  data/images/2995195.jpg  \n",
       "3  data/images/2995196.jpg  \n",
       "4  data/images/2995197.jpg  "
      ]
     },
     "execution_count": 9,
     "metadata": {},
     "output_type": "execute_result"
    }
   ],
   "source": [
    "df.head()"
   ]
  },
  {
   "cell_type": "markdown",
   "metadata": {},
   "source": [
    "Split the data into training and validation datasets."
   ]
  },
  {
   "cell_type": "code",
   "execution_count": 10,
   "metadata": {},
   "outputs": [
    {
     "name": "stdout",
     "output_type": "stream",
     "text": [
      "typewritten    3856\n",
      "handwritten    1009\n",
      "Name: category, dtype: int64\n"
     ]
    },
    {
     "data": {
      "text/html": [
       "<div>\n",
       "<style scoped>\n",
       "    .dataframe tbody tr th:only-of-type {\n",
       "        vertical-align: middle;\n",
       "    }\n",
       "\n",
       "    .dataframe tbody tr th {\n",
       "        vertical-align: top;\n",
       "    }\n",
       "\n",
       "    .dataframe thead th {\n",
       "        text-align: right;\n",
       "    }\n",
       "</style>\n",
       "<table border=\"1\" class=\"dataframe\">\n",
       "  <thead>\n",
       "    <tr style=\"text-align: right;\">\n",
       "      <th></th>\n",
       "      <th>subject_id</th>\n",
       "      <th>category</th>\n",
       "      <th>class</th>\n",
       "      <th>box</th>\n",
       "      <th>path</th>\n",
       "      <th>original</th>\n",
       "    </tr>\n",
       "  </thead>\n",
       "  <tbody>\n",
       "    <tr>\n",
       "      <th>107</th>\n",
       "      <td>2995300</td>\n",
       "      <td>typewritten</td>\n",
       "      <td>2</td>\n",
       "      <td>[231, 446, 368, 564]</td>\n",
       "      <td>data/train/2995300.jpg</td>\n",
       "      <td>data/images/2995300.jpg</td>\n",
       "    </tr>\n",
       "    <tr>\n",
       "      <th>612</th>\n",
       "      <td>4128323</td>\n",
       "      <td>typewritten</td>\n",
       "      <td>2</td>\n",
       "      <td>[156, 322, 250, 382]</td>\n",
       "      <td>data/train/4128323.jpg</td>\n",
       "      <td>data/images/4128323.jpg</td>\n",
       "    </tr>\n",
       "    <tr>\n",
       "      <th>806</th>\n",
       "      <td>4128517</td>\n",
       "      <td>handwritten</td>\n",
       "      <td>1</td>\n",
       "      <td>[155, 321, 248, 382]</td>\n",
       "      <td>data/train/4128517.jpg</td>\n",
       "      <td>data/images/4128517.jpg</td>\n",
       "    </tr>\n",
       "    <tr>\n",
       "      <th>5717</th>\n",
       "      <td>11783370</td>\n",
       "      <td>handwritten</td>\n",
       "      <td>1</td>\n",
       "      <td>[552, 1225, 966, 1483]</td>\n",
       "      <td>data/train/11783370.jpg</td>\n",
       "      <td>data/images/11783370.jpg</td>\n",
       "    </tr>\n",
       "    <tr>\n",
       "      <th>4816</th>\n",
       "      <td>11782469</td>\n",
       "      <td>typewritten</td>\n",
       "      <td>2</td>\n",
       "      <td>[612, 1182, 977, 1464]</td>\n",
       "      <td>data/train/11782469.jpg</td>\n",
       "      <td>data/images/11782469.jpg</td>\n",
       "    </tr>\n",
       "  </tbody>\n",
       "</table>\n",
       "</div>"
      ],
      "text/plain": [
       "      subject_id     category  class                     box  \\\n",
       "107      2995300  typewritten      2    [231, 446, 368, 564]   \n",
       "612      4128323  typewritten      2    [156, 322, 250, 382]   \n",
       "806      4128517  handwritten      1    [155, 321, 248, 382]   \n",
       "5717    11783370  handwritten      1  [552, 1225, 966, 1483]   \n",
       "4816    11782469  typewritten      2  [612, 1182, 977, 1464]   \n",
       "\n",
       "                         path                  original  \n",
       "107    data/train/2995300.jpg   data/images/2995300.jpg  \n",
       "612    data/train/4128323.jpg   data/images/4128323.jpg  \n",
       "806    data/train/4128517.jpg   data/images/4128517.jpg  \n",
       "5717  data/train/11783370.jpg  data/images/11783370.jpg  \n",
       "4816  data/train/11782469.jpg  data/images/11782469.jpg  "
      ]
     },
     "execution_count": 10,
     "metadata": {},
     "output_type": "execute_result"
    }
   ],
   "source": [
    "train = df.sample(frac=0.8, random_state=SEED)\n",
    "train[PATH] = train[SUB_ID].apply(lambda x: TRN_DIR.joinpath(f'{x}.jpg'))\n",
    "\n",
    "print(train[CAT].value_counts())\n",
    "train.head()"
   ]
  },
  {
   "cell_type": "code",
   "execution_count": 11,
   "metadata": {},
   "outputs": [
    {
     "name": "stdout",
     "output_type": "stream",
     "text": [
      "typewritten    952\n",
      "handwritten    264\n",
      "Name: category, dtype: int64\n"
     ]
    },
    {
     "data": {
      "text/html": [
       "<div>\n",
       "<style scoped>\n",
       "    .dataframe tbody tr th:only-of-type {\n",
       "        vertical-align: middle;\n",
       "    }\n",
       "\n",
       "    .dataframe tbody tr th {\n",
       "        vertical-align: top;\n",
       "    }\n",
       "\n",
       "    .dataframe thead th {\n",
       "        text-align: right;\n",
       "    }\n",
       "</style>\n",
       "<table border=\"1\" class=\"dataframe\">\n",
       "  <thead>\n",
       "    <tr style=\"text-align: right;\">\n",
       "      <th></th>\n",
       "      <th>subject_id</th>\n",
       "      <th>category</th>\n",
       "      <th>class</th>\n",
       "      <th>box</th>\n",
       "      <th>path</th>\n",
       "      <th>original</th>\n",
       "    </tr>\n",
       "  </thead>\n",
       "  <tbody>\n",
       "    <tr>\n",
       "      <th>9</th>\n",
       "      <td>2995202</td>\n",
       "      <td>typewritten</td>\n",
       "      <td>2</td>\n",
       "      <td>[228, 459, 367, 568]</td>\n",
       "      <td>data/valid/2995202.jpg</td>\n",
       "      <td>data/images/2995202.jpg</td>\n",
       "    </tr>\n",
       "    <tr>\n",
       "      <th>10</th>\n",
       "      <td>2995203</td>\n",
       "      <td>typewritten</td>\n",
       "      <td>2</td>\n",
       "      <td>[238, 462, 377, 572]</td>\n",
       "      <td>data/valid/2995203.jpg</td>\n",
       "      <td>data/images/2995203.jpg</td>\n",
       "    </tr>\n",
       "    <tr>\n",
       "      <th>12</th>\n",
       "      <td>2995205</td>\n",
       "      <td>typewritten</td>\n",
       "      <td>2</td>\n",
       "      <td>[252, 486, 373, 564]</td>\n",
       "      <td>data/valid/2995205.jpg</td>\n",
       "      <td>data/images/2995205.jpg</td>\n",
       "    </tr>\n",
       "    <tr>\n",
       "      <th>20</th>\n",
       "      <td>2995213</td>\n",
       "      <td>typewritten</td>\n",
       "      <td>2</td>\n",
       "      <td>[224, 474, 373, 566]</td>\n",
       "      <td>data/valid/2995213.jpg</td>\n",
       "      <td>data/images/2995213.jpg</td>\n",
       "    </tr>\n",
       "    <tr>\n",
       "      <th>23</th>\n",
       "      <td>2995216</td>\n",
       "      <td>handwritten</td>\n",
       "      <td>1</td>\n",
       "      <td>[239, 462, 367, 562]</td>\n",
       "      <td>data/valid/2995216.jpg</td>\n",
       "      <td>data/images/2995216.jpg</td>\n",
       "    </tr>\n",
       "  </tbody>\n",
       "</table>\n",
       "</div>"
      ],
      "text/plain": [
       "    subject_id     category  class                   box  \\\n",
       "9      2995202  typewritten      2  [228, 459, 367, 568]   \n",
       "10     2995203  typewritten      2  [238, 462, 377, 572]   \n",
       "12     2995205  typewritten      2  [252, 486, 373, 564]   \n",
       "20     2995213  typewritten      2  [224, 474, 373, 566]   \n",
       "23     2995216  handwritten      1  [239, 462, 367, 562]   \n",
       "\n",
       "                      path                 original  \n",
       "9   data/valid/2995202.jpg  data/images/2995202.jpg  \n",
       "10  data/valid/2995203.jpg  data/images/2995203.jpg  \n",
       "12  data/valid/2995205.jpg  data/images/2995205.jpg  \n",
       "20  data/valid/2995213.jpg  data/images/2995213.jpg  \n",
       "23  data/valid/2995216.jpg  data/images/2995216.jpg  "
      ]
     },
     "execution_count": 11,
     "metadata": {},
     "output_type": "execute_result"
    }
   ],
   "source": [
    "valid = df.drop(train.index)\n",
    "valid[PATH] = valid[SUB_ID].apply(lambda x: VAL_DIR.joinpath(f'{x}.jpg'))\n",
    "\n",
    "print(valid[CAT].value_counts())\n",
    "valid.head()"
   ]
  },
  {
   "cell_type": "code",
   "execution_count": 12,
   "metadata": {},
   "outputs": [],
   "source": [
    "train = train.set_index(SUB_ID)\n",
    "train.to_csv(TRN_CSV)\n",
    "\n",
    "valid = valid.set_index(SUB_ID)\n",
    "valid.to_csv(VAL_CSV)"
   ]
  },
  {
   "cell_type": "markdown",
   "metadata": {},
   "source": [
    "Copy the images into the training and validation directories."
   ]
  },
  {
   "cell_type": "code",
   "execution_count": null,
   "metadata": {},
   "outputs": [],
   "source": [
    "rmtree(TRN_DIR, ignore_errors=True)\n",
    "rmtree(VAL_DIR, ignore_errors=True)\n",
    "\n",
    "TRN_DIR.mkdir()\n",
    "VAL_DIR.mkdir()"
   ]
  },
  {
   "cell_type": "code",
   "execution_count": null,
   "metadata": {},
   "outputs": [],
   "source": [
    "def copy_img(dfm, dir_):\n",
    "    for path in dfm[ORIGINAL].tolist():\n",
    "        src = str(path)\n",
    "        dst = dir_ / path.name\n",
    "        image = Image.open(src).convert('RGB')\n",
    "        size = (scale(image.width), scale(image.height))\n",
    "        image = image.resize(size)\n",
    "        image.save(dst)\n",
    "        # copyfile(src, dst)\n",
    "\n",
    "\n",
    "copy_img(train, TRN_DIR)\n",
    "copy_img(valid, VAL_DIR)"
   ]
  },
  {
   "cell_type": "code",
   "execution_count": 14,
   "metadata": {},
   "outputs": [
    {
     "data": {
      "application/vnd.jupyter.widget-view+json": {
       "model_id": "36ed6c9d824f4e58a7dd67c3d250c0fb",
       "version_major": 2,
       "version_minor": 0
      },
      "text/plain": [
       "interactive(children=(IntSlider(value=607, description='idx', max=1215), Output()), _dom_classes=('widget-inte…"
      ]
     },
     "metadata": {},
     "output_type": "display_data"
    },
    {
     "data": {
      "text/plain": [
       "<function __main__.show_image(idx)>"
      ]
     },
     "execution_count": 14,
     "metadata": {},
     "output_type": "execute_result"
    }
   ],
   "source": [
    "def show_image(idx):\n",
    "    \"\"\"Display the image and its mask.\"\"\"\n",
    "    subject = valid.iloc[idx]\n",
    "\n",
    "    image = Image.open(subject[PATH])\n",
    "\n",
    "    draw = ImageDraw.Draw(image)\n",
    "\n",
    "    draw = ImageDraw.Draw(image)\n",
    "    draw.rectangle(subject[BOX], width=4, outline='#0000ff')\n",
    "\n",
    "    plt.figure(figsize=(10, 10))\n",
    "    plt.imshow(image)\n",
    "\n",
    "#     print(subject)\n",
    "\n",
    "\n",
    "interact(show_image, idx=(0, valid.shape[0] - 1))\n",
    "# show_image(0)"
   ]
  },
  {
   "cell_type": "code",
   "execution_count": null,
   "metadata": {},
   "outputs": [],
   "source": []
  }
 ],
 "metadata": {
  "kernelspec": {
   "display_name": "Python 3",
   "language": "python",
   "name": "python3"
  },
  "language_info": {
   "codemirror_mode": {
    "name": "ipython",
    "version": 3
   },
   "file_extension": ".py",
   "mimetype": "text/x-python",
   "name": "python",
   "nbconvert_exporter": "python",
   "pygments_lexer": "ipython3",
   "version": "3.7.3"
  },
  "toc": {
   "base_numbering": 1,
   "nav_menu": {},
   "number_sections": true,
   "sideBar": true,
   "skip_h1_title": false,
   "title_cell": "Table of Contents",
   "title_sidebar": "Contents",
   "toc_cell": false,
   "toc_position": {},
   "toc_section_display": true,
   "toc_window_display": false
  }
 },
 "nbformat": 4,
 "nbformat_minor": 2
}
