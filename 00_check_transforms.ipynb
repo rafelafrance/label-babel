{
 "cells": [
  {
   "cell_type": "code",
   "execution_count": 1,
   "metadata": {},
   "outputs": [],
   "source": [
    "from pathlib import Path\n",
    "from textwrap import dedent\n",
    "import pdb\n",
    "\n",
    "from tqdm import tqdm\n",
    "from ipywidgets import interact\n",
    "from PIL import Image, ImageDraw, ImageFont\n",
    "import numpy as np\n",
    "import pandas as pd\n",
    "import matplotlib.pyplot as plt\n",
    "from matplotlib import patches, patheffects\n",
    "import seaborn as sn\n",
    "\n",
    "import torch\n",
    "import torchvision\n",
    "from torchvision.models.detection.faster_rcnn import FastRCNNPredictor\n",
    "\n",
    "import transforms as T\n",
    "from engine import train_one_epoch, evaluate\n",
    "import utils"
   ]
  },
  {
   "cell_type": "code",
   "execution_count": 2,
   "metadata": {},
   "outputs": [],
   "source": [
    "DATA_DIR = Path('.') / 'data'\n",
    "TRN_DIR = DATA_DIR / 'train'\n",
    "\n",
    "TRN_CSV = DATA_DIR / 'train.csv'\n",
    "\n",
    "BOX = 'box'\n",
    "CAT = 'category'\n",
    "PATH = 'path'\n",
    "CLASS = 'class'\n",
    "SUB_ID = 'subject_id'\n",
    "PRED_BOX = 'predicted_box'\n",
    "PRED_CLASS = 'predicted_class'\n",
    "PRED_CAT = 'predicted_category'\n",
    "IOU = 'IoU'\n",
    "\n",
    "DEVICE = torch.device('cuda')\n",
    "torch.backends.cudnn.benchmark = True\n",
    "\n",
    "CATS = ['background', 'handwritten', 'typewritten']\n",
    "CLASSES = len(CATS)"
   ]
  },
  {
   "cell_type": "code",
   "execution_count": 3,
   "metadata": {},
   "outputs": [
    {
     "data": {
      "text/html": [
       "<div>\n",
       "<style scoped>\n",
       "    .dataframe tbody tr th:only-of-type {\n",
       "        vertical-align: middle;\n",
       "    }\n",
       "\n",
       "    .dataframe tbody tr th {\n",
       "        vertical-align: top;\n",
       "    }\n",
       "\n",
       "    .dataframe thead th {\n",
       "        text-align: right;\n",
       "    }\n",
       "</style>\n",
       "<table border=\"1\" class=\"dataframe\">\n",
       "  <thead>\n",
       "    <tr style=\"text-align: right;\">\n",
       "      <th></th>\n",
       "      <th>subject_id</th>\n",
       "      <th>category</th>\n",
       "      <th>class</th>\n",
       "      <th>box</th>\n",
       "      <th>path</th>\n",
       "      <th>original</th>\n",
       "    </tr>\n",
       "  </thead>\n",
       "  <tbody>\n",
       "    <tr>\n",
       "      <th>0</th>\n",
       "      <td>2995300</td>\n",
       "      <td>typewritten</td>\n",
       "      <td>2</td>\n",
       "      <td>[231, 446, 368, 564]</td>\n",
       "      <td>data/train/2995300.jpg</td>\n",
       "      <td>data/images/2995300.jpg</td>\n",
       "    </tr>\n",
       "    <tr>\n",
       "      <th>1</th>\n",
       "      <td>4128323</td>\n",
       "      <td>typewritten</td>\n",
       "      <td>2</td>\n",
       "      <td>[156, 322, 250, 382]</td>\n",
       "      <td>data/train/4128323.jpg</td>\n",
       "      <td>data/images/4128323.jpg</td>\n",
       "    </tr>\n",
       "    <tr>\n",
       "      <th>2</th>\n",
       "      <td>4128517</td>\n",
       "      <td>handwritten</td>\n",
       "      <td>1</td>\n",
       "      <td>[155, 321, 248, 382]</td>\n",
       "      <td>data/train/4128517.jpg</td>\n",
       "      <td>data/images/4128517.jpg</td>\n",
       "    </tr>\n",
       "    <tr>\n",
       "      <th>3</th>\n",
       "      <td>11783370</td>\n",
       "      <td>handwritten</td>\n",
       "      <td>1</td>\n",
       "      <td>[552, 1225, 966, 1483]</td>\n",
       "      <td>data/train/11783370.jpg</td>\n",
       "      <td>data/images/11783370.jpg</td>\n",
       "    </tr>\n",
       "    <tr>\n",
       "      <th>4</th>\n",
       "      <td>11782469</td>\n",
       "      <td>typewritten</td>\n",
       "      <td>2</td>\n",
       "      <td>[612, 1182, 977, 1464]</td>\n",
       "      <td>data/train/11782469.jpg</td>\n",
       "      <td>data/images/11782469.jpg</td>\n",
       "    </tr>\n",
       "  </tbody>\n",
       "</table>\n",
       "</div>"
      ],
      "text/plain": [
       "   subject_id     category  class                     box  \\\n",
       "0     2995300  typewritten      2    [231, 446, 368, 564]   \n",
       "1     4128323  typewritten      2    [156, 322, 250, 382]   \n",
       "2     4128517  handwritten      1    [155, 321, 248, 382]   \n",
       "3    11783370  handwritten      1  [552, 1225, 966, 1483]   \n",
       "4    11782469  typewritten      2  [612, 1182, 977, 1464]   \n",
       "\n",
       "                      path                  original  \n",
       "0   data/train/2995300.jpg   data/images/2995300.jpg  \n",
       "1   data/train/4128323.jpg   data/images/4128323.jpg  \n",
       "2   data/train/4128517.jpg   data/images/4128517.jpg  \n",
       "3  data/train/11783370.jpg  data/images/11783370.jpg  \n",
       "4  data/train/11782469.jpg  data/images/11782469.jpg  "
      ]
     },
     "execution_count": 3,
     "metadata": {},
     "output_type": "execute_result"
    }
   ],
   "source": [
    "trn_df = pd.read_csv(TRN_CSV, index_col='subject_id').reset_index()\n",
    "\n",
    "trn_df.head()"
   ]
  },
  {
   "cell_type": "code",
   "execution_count": 4,
   "metadata": {},
   "outputs": [],
   "source": [
    "class LabelBabelDataset(torch.utils.data.Dataset):\n",
    "    def __init__(self, df, transforms):\n",
    "        df[BOX] = df[BOX].apply(json.loads)\n",
    "        self.df = df\n",
    "        self.transforms = transforms\n",
    "\n",
    "    def __getitem__(self, idx):\n",
    "        subject = self.df.iloc[idx]\n",
    "\n",
    "        image = Image.open(subject[PATH]).convert('RGB')\n",
    "\n",
    "        klass = int(subject[CLASS])\n",
    "        labels = torch.full((1,), klass, dtype=torch.int64)\n",
    "\n",
    "        boxes = [subject[BOX]]\n",
    "        boxes = torch.as_tensor(boxes, dtype=torch.float32)\n",
    "\n",
    "        target = {}\n",
    "        target['boxes'] = boxes\n",
    "        target['labels'] = labels\n",
    "        target['image_id'] = torch.tensor([subject[SUB_ID]])\n",
    "\n",
    "        if self.transforms is not None:\n",
    "            image, target = self.transforms(image, target)\n",
    "\n",
    "        return image, target\n",
    "\n",
    "    def __len__(self):\n",
    "        return self.df.shape[0]"
   ]
  },
  {
   "cell_type": "code",
   "execution_count": 5,
   "metadata": {},
   "outputs": [],
   "source": [
    "def get_transform(train):\n",
    "    transforms = [T.ToTensor()]\n",
    "    if train:\n",
    "        transforms.append(T.RandomHorizontalFlip(0.5))\n",
    "        transforms.append(T.RandomVerticalFlip(0.5))\n",
    "        transforms.append(T.RandomRotate())\n",
    "        transforms.append(T.ColorJitter(\n",
    "            brightness=0.25, contrast=0.25, saturation=0.25, hue=0.25))\n",
    "    return T.Compose(transforms)"
   ]
  },
  {
   "cell_type": "code",
   "execution_count": 6,
   "metadata": {},
   "outputs": [],
   "source": [
    "trn_dataset = LabelBabelDataset(trn_df, get_transform(train=True))"
   ]
  },
  {
   "cell_type": "code",
   "execution_count": 7,
   "metadata": {},
   "outputs": [],
   "source": [
    "def draw_rectangle(ax, bbox, color):\n",
    "    wide = abs(bbox[2] - bbox[0])\n",
    "    high = abs(bbox[3] - bbox[1])\n",
    "    rect = patches.Rectangle(\n",
    "        bbox[:2],\n",
    "        wide, high,\n",
    "        fill=False,\n",
    "        edgecolor=color,\n",
    "        lw=2)\n",
    "    patch = ax.add_patch(rect)"
   ]
  },
  {
   "cell_type": "code",
   "execution_count": 8,
   "metadata": {},
   "outputs": [],
   "source": [
    "def draw_text(ax, position, text, fontsize=12):\n",
    "    ax.text(\n",
    "        *position,\n",
    "        text,\n",
    "        verticalalignment='top',\n",
    "        color='black',\n",
    "        fontsize=fontsize,\n",
    "        fontfamily='monospace',\n",
    "        weight='bold',\n",
    "        bbox=dict(\n",
    "            boxstyle='round',\n",
    "            facecolor='white',\n",
    "            edgecolor='black'))"
   ]
  },
  {
   "cell_type": "code",
   "execution_count": 9,
   "metadata": {
    "scrolled": false
   },
   "outputs": [
    {
     "data": {
      "application/vnd.jupyter.widget-view+json": {
       "model_id": "759ab5d71d594089be0cf4117b63900c",
       "version_major": 2,
       "version_minor": 0
      },
      "text/plain": [
       "interactive(children=(IntSlider(value=2432, description='idx', max=4864), Dropdown(description='figsize', opti…"
      ]
     },
     "metadata": {},
     "output_type": "display_data"
    },
    {
     "data": {
      "text/plain": [
       "<function __main__.show_image(idx, figsize)>"
      ]
     },
     "execution_count": 9,
     "metadata": {},
     "output_type": "execute_result"
    }
   ],
   "source": [
    "def show_image(idx, figsize):\n",
    "    image, target = trn_dataset[idx]\n",
    "\n",
    "    t_box = target['boxes'][0]\n",
    "\n",
    "    fig, ax = plt.subplots(figsize=(figsize, figsize))\n",
    "\n",
    "    image = Image.fromarray(image.mul(255).permute(1, 2, 0).byte().numpy())\n",
    "\n",
    "    ax.imshow(image)\n",
    "\n",
    "    draw_rectangle(ax, t_box, 'blue')\n",
    "\n",
    "    plt.show()\n",
    "\n",
    "\n",
    "interact(\n",
    "    show_image,\n",
    "    idx=(0, trn_df.shape[0] - 1),\n",
    "    figsize=([10, 12, 15, 20, 25]))\n",
    "# show_image(0, 10)"
   ]
  },
  {
   "cell_type": "code",
   "execution_count": null,
   "metadata": {},
   "outputs": [],
   "source": []
  }
 ],
 "metadata": {
  "kernelspec": {
   "display_name": "Python 3",
   "language": "python",
   "name": "python3"
  },
  "language_info": {
   "codemirror_mode": {
    "name": "ipython",
    "version": 3
   },
   "file_extension": ".py",
   "mimetype": "text/x-python",
   "name": "python",
   "nbconvert_exporter": "python",
   "pygments_lexer": "ipython3",
   "version": "3.7.3"
  },
  "toc": {
   "base_numbering": 1,
   "nav_menu": {},
   "number_sections": true,
   "sideBar": true,
   "skip_h1_title": false,
   "title_cell": "Table of Contents",
   "title_sidebar": "Contents",
   "toc_cell": false,
   "toc_position": {},
   "toc_section_display": true,
   "toc_window_display": false
  }
 },
 "nbformat": 4,
 "nbformat_minor": 2
}
