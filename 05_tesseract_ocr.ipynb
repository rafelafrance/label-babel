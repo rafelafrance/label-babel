{
 "cells": [
  {
   "cell_type": "code",
   "execution_count": 6,
   "metadata": {},
   "outputs": [],
   "source": [
    "from shutil import copyfile\n",
    "from pathlib import Path\n",
    "import pdb\n",
    "\n",
    "import pandas as pd\n",
    "from tqdm import tqdm\n",
    "from ipywidgets import interact\n",
    "from PIL import Image\n",
    "import pytesseract"
   ]
  },
  {
   "cell_type": "code",
   "execution_count": 2,
   "metadata": {},
   "outputs": [],
   "source": [
    "DATA_DIR = Path('.') / 'data'\n",
    "\n",
    "TRN_DIR = DATA_DIR / 'train'\n",
    "VAL_DIR = DATA_DIR / 'valid'\n",
    "MODEL_DIR = DATA_DIR / 'models'\n",
    "HAND_DIR = DATA_DIR / 'handwritten'\n",
    "TYPE_DIR = DATA_DIR / 'typewritten'\n",
    "\n",
    "VAL_CSV = DATA_DIR / 'valid.csv'\n",
    "TRN_CSV = DATA_DIR / 'train.csv'\n",
    "\n",
    "BOX = 'box'\n",
    "CAT = 'category'\n",
    "ORI = 'original'\n",
    "PATH = 'path'\n",
    "CLASS = 'class'\n",
    "SUB_ID = 'subject_id'\n",
    "PRED_BOX = 'predicted_box'\n",
    "PRED_CAT = 'predicted_category'\n",
    "PRED_CLASS = 'predicted_class'\n",
    "PRED_TEXT = 'predicted_text'\n",
    "\n",
    "HANDWRITTEN = 'handwritten'\n",
    "TYPEWRITTEN = 'typewritten'\n",
    "CATS = ['background', HANDWRITTEN, TYPEWRITTEN]\n",
    "CLASSES = len(CATS)"
   ]
  },
  {
   "cell_type": "code",
   "execution_count": 3,
   "metadata": {},
   "outputs": [],
   "source": [
    "val_df = pd.read_csv(VAL_CSV)\n",
    "val_df[PRED_TEXT] = None"
   ]
  },
  {
   "cell_type": "code",
   "execution_count": 4,
   "metadata": {
    "scrolled": true
   },
   "outputs": [
    {
     "name": "stderr",
     "output_type": "stream",
     "text": [
      "1216it [06:58,  2.21it/s]\n"
     ]
    }
   ],
   "source": [
    "def ocr_image(df):\n",
    "    for idx, row in tqdm(df.iterrows()):\n",
    "        if row.at[PRED_CAT] != TYPEWRITTEN:\n",
    "            continue\n",
    "        path = Path(TYPE_DIR / '{}.jpg'.format(row.at[SUB_ID]))\n",
    "        path = str(path)\n",
    "        image = Image.open(path)\n",
    "        text = pytesseract.image_to_string(image)\n",
    "        val_df.at[idx, PRED_TEXT] = text\n",
    "\n",
    "\n",
    "ocr_image(val_df)"
   ]
  },
  {
   "cell_type": "code",
   "execution_count": 5,
   "metadata": {},
   "outputs": [],
   "source": [
    "val_df.to_csv(VAL_CSV, index=False)"
   ]
  },
  {
   "cell_type": "code",
   "execution_count": 8,
   "metadata": {},
   "outputs": [
    {
     "name": "stderr",
     "output_type": "stream",
     "text": [
      "1216it [00:00, 5059.14it/s]\n"
     ]
    }
   ],
   "source": [
    "# out_dir = DATA_DIR / 'typewritten_labels'\n",
    "# out_dir.mkdir()\n",
    "\n",
    "# for idx, row in tqdm(val_df.iterrows()):\n",
    "#     if row.at[PRED_CAT] != TYPEWRITTEN:\n",
    "#         continue\n",
    "#     src = TYPE_DIR / '{}.jpg'.format(row.at[SUB_ID])\n",
    "#     dst = out_dir / '{}.jpg'.format(row.at[SUB_ID])\n",
    "#     copyfile(src, dst)"
   ]
  },
  {
   "cell_type": "code",
   "execution_count": null,
   "metadata": {},
   "outputs": [],
   "source": []
  }
 ],
 "metadata": {
  "kernelspec": {
   "display_name": "Python 3",
   "language": "python",
   "name": "python3"
  },
  "language_info": {
   "codemirror_mode": {
    "name": "ipython",
    "version": 3
   },
   "file_extension": ".py",
   "mimetype": "text/x-python",
   "name": "python",
   "nbconvert_exporter": "python",
   "pygments_lexer": "ipython3",
   "version": "3.7.3"
  },
  "toc": {
   "base_numbering": 1,
   "nav_menu": {},
   "number_sections": true,
   "sideBar": true,
   "skip_h1_title": false,
   "title_cell": "Table of Contents",
   "title_sidebar": "Contents",
   "toc_cell": false,
   "toc_position": {},
   "toc_section_display": true,
   "toc_window_display": false
  }
 },
 "nbformat": 4,
 "nbformat_minor": 2
}
