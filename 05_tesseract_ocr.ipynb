{
 "cells": [
  {
   "cell_type": "code",
   "execution_count": 19,
   "metadata": {},
   "outputs": [],
   "source": [
    "from shutil import copyfile\n",
    "from pathlib import Path\n",
    "import pdb\n",
    "\n",
    "import pandas as pd\n",
    "import matplotlib.pyplot as plt\n",
    "from tqdm import tqdm\n",
    "from ipywidgets import interact\n",
    "from PIL import Image\n",
    "import pytesseract"
   ]
  },
  {
   "cell_type": "code",
   "execution_count": 2,
   "metadata": {},
   "outputs": [],
   "source": [
    "DATA_DIR = Path('.') / 'data'\n",
    "\n",
    "TRN_DIR = DATA_DIR / 'train'\n",
    "VAL_DIR = DATA_DIR / 'valid'\n",
    "MODEL_DIR = DATA_DIR / 'models'\n",
    "HAND_DIR = DATA_DIR / 'handwritten'\n",
    "TYPE_DIR = DATA_DIR / 'typewritten'\n",
    "\n",
    "VAL_CSV = DATA_DIR / 'valid.csv'\n",
    "TRN_CSV = DATA_DIR / 'train.csv'\n",
    "\n",
    "BOX = 'box'\n",
    "CAT = 'category'\n",
    "ORI = 'original'\n",
    "PATH = 'path'\n",
    "CLASS = 'class'\n",
    "SUB_ID = 'subject_id'\n",
    "PRED_BOX = 'predicted_box'\n",
    "PRED_CAT = 'predicted_category'\n",
    "PRED_CLASS = 'predicted_class'\n",
    "PRED_TEXT = 'predicted_text'\n",
    "\n",
    "HANDWRITTEN = 'handwritten'\n",
    "TYPEWRITTEN = 'typewritten'\n",
    "CATS = ['background', HANDWRITTEN, TYPEWRITTEN]\n",
    "CLASSES = len(CATS)"
   ]
  },
  {
   "cell_type": "code",
   "execution_count": 3,
   "metadata": {},
   "outputs": [],
   "source": [
    "# CSV = TRN_CSV\n",
    "CSV = VAL_CSV"
   ]
  },
  {
   "cell_type": "code",
   "execution_count": 4,
   "metadata": {},
   "outputs": [],
   "source": [
    "df = pd.read_csv(CSV)\n",
    "df[PRED_TEXT] = None"
   ]
  },
  {
   "cell_type": "code",
   "execution_count": 69,
   "metadata": {
    "scrolled": false
   },
   "outputs": [
    {
     "data": {
      "application/vnd.jupyter.widget-view+json": {
       "model_id": "ae4346713eca459c9a4c3c1360f65c68",
       "version_major": 2,
       "version_minor": 0
      },
      "text/plain": [
       "interactive(children=(IntSlider(value=607, description='idx', max=1215), Output()), _dom_classes=('widget-inte…"
      ]
     },
     "metadata": {},
     "output_type": "display_data"
    }
   ],
   "source": [
    "CONFIG = ' '.join([\n",
    "    '-l eng',\n",
    "    \"-c tessedit_char_blacklist='€«¢»£®'\",\n",
    "    '',\n",
    "])\n",
    "\n",
    "\n",
    "def show_results(idx):\n",
    "    row = df.loc[idx]\n",
    "    subject_id = int(row.at[SUB_ID])\n",
    "    print(subject_id)\n",
    "    if row.at[PRED_CAT] != TYPEWRITTEN:\n",
    "        print('Not typewritten')\n",
    "        return\n",
    "    path = Path(TYPE_DIR / f'{subject_id}.jpg')\n",
    "    path = str(path)\n",
    "    image = Image.open(path)\n",
    "    text = pytesseract.image_to_string(image, config=CONFIG)\n",
    "\n",
    "    fig, ax = plt.subplots(1, 2, figsize=(20, 10))\n",
    "    plt.axis('off')\n",
    "\n",
    "    ax[0].set_axis_off()\n",
    "    ax[0].imshow(image)\n",
    "\n",
    "    ax[1].text(0, 0.5, text, fontsize=16, verticalalignment='center')\n",
    "\n",
    "    plt.show()\n",
    "\n",
    "\n",
    "interact(show_results, idx=(0, df.shape[0] - 1));"
   ]
  },
  {
   "cell_type": "code",
   "execution_count": 27,
   "metadata": {},
   "outputs": [],
   "source": [
    "df.to_csv(CSV, index=False)"
   ]
  },
  {
   "cell_type": "code",
   "execution_count": null,
   "metadata": {},
   "outputs": [],
   "source": [
    "# out_dir = DATA_DIR / 'typewritten_labels'\n",
    "# out_dir.mkdir()\n",
    "\n",
    "# for idx, row in tqdm(val_df.iterrows()):\n",
    "#     if row.at[PRED_CAT] != TYPEWRITTEN:\n",
    "#         continue\n",
    "#     src = TYPE_DIR / '{}.jpg'.format(row.at[SUB_ID])\n",
    "#     dst = out_dir / '{}.jpg'.format(row.at[SUB_ID])\n",
    "#     copyfile(src, dst)"
   ]
  },
  {
   "cell_type": "code",
   "execution_count": null,
   "metadata": {},
   "outputs": [],
   "source": []
  }
 ],
 "metadata": {
  "kernelspec": {
   "display_name": "Python 3",
   "language": "python",
   "name": "python3"
  },
  "language_info": {
   "codemirror_mode": {
    "name": "ipython",
    "version": 3
   },
   "file_extension": ".py",
   "mimetype": "text/x-python",
   "name": "python",
   "nbconvert_exporter": "python",
   "pygments_lexer": "ipython3",
   "version": "3.7.5"
  },
  "toc": {
   "base_numbering": 1,
   "nav_menu": {},
   "number_sections": true,
   "sideBar": true,
   "skip_h1_title": false,
   "title_cell": "Table of Contents",
   "title_sidebar": "Contents",
   "toc_cell": false,
   "toc_position": {},
   "toc_section_display": true,
   "toc_window_display": false
  }
 },
 "nbformat": 4,
 "nbformat_minor": 2
}
