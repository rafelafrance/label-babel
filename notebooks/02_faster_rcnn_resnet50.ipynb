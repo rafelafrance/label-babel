{
 "cells": [
  {
   "cell_type": "code",
   "execution_count": 1,
   "metadata": {},
   "outputs": [],
   "source": [
    "import sys\n",
    "sys.path.append('..')"
   ]
  },
  {
   "cell_type": "code",
   "execution_count": 4,
   "metadata": {},
   "outputs": [],
   "source": [
    "import json\n",
    "from pathlib import Path\n",
    "from textwrap import dedent\n",
    "import pdb\n",
    "\n",
    "from tqdm import tqdm\n",
    "from ipywidgets import interact\n",
    "from PIL import Image, ImageDraw, ImageFont\n",
    "import numpy as np\n",
    "import pandas as pd\n",
    "import matplotlib.pyplot as plt\n",
    "from matplotlib import patches, patheffects\n",
    "\n",
    "import torch\n",
    "import torchvision\n",
    "from torchvision.models.detection.faster_rcnn import FastRCNNPredictor\n",
    "\n",
    "import pylib.transforms as T\n",
    "from pylib.engine import train_one_epoch, evaluate\n",
    "import pylib.utils as utils\n",
    "\n",
    "from pylib.label_babel_dataset import LabelBabelDataset"
   ]
  },
  {
   "cell_type": "code",
   "execution_count": 6,
   "metadata": {},
   "outputs": [
    {
     "name": "stdout",
     "output_type": "stream",
     "text": [
      "EST 2020-02-02T15:55:16-05:00\n",
      "\n",
      "CPython 3.7.5\n",
      "IPython 7.11.1\n",
      "\n",
      "torch 1.4.0\n",
      "torchvision 0.5.0\n"
     ]
    }
   ],
   "source": [
    "%matplotlib inline\n",
    "%reload_ext autoreload\n",
    "%autoreload 2\n",
    "\n",
    "%load_ext watermark\n",
    "%watermark -i -z -v -p torch,torchvision"
   ]
  },
  {
   "cell_type": "code",
   "execution_count": 10,
   "metadata": {},
   "outputs": [],
   "source": [
    "DATA_DIR = Path('..') / 'data'\n",
    "VAL_DIR = DATA_DIR / 'valid'\n",
    "TRN_DIR = DATA_DIR / 'train'\n",
    "MODEL_DIR = DATA_DIR / 'models'\n",
    "\n",
    "TRN_CSV = DATA_DIR / 'train.csv'\n",
    "VAL_CSV = DATA_DIR / 'valid.csv'\n",
    "\n",
    "BOX = 'box'\n",
    "CAT = 'category'\n",
    "PATH = 'path'\n",
    "CLASS = 'class'\n",
    "SUB_ID = 'subject_id'\n",
    "\n",
    "SEED = 23\n",
    "\n",
    "DEVICE = torch.device('cuda')\n",
    "torch.backends.cudnn.benchmark = True  # Optimizes cudnn\n",
    "\n",
    "CATS = ['background', 'handwritten', 'typewritten']\n",
    "CLASSES = len(CATS)\n",
    "\n",
    "EPOCHS = 10  # 50\n",
    "CHECKPOINT = 'checkpoint_{}.pth.tar'"
   ]
  },
  {
   "cell_type": "code",
   "execution_count": 11,
   "metadata": {},
   "outputs": [
    {
     "data": {
      "text/plain": [
       "<torch._C.Generator at 0x7f03d424bc30>"
      ]
     },
     "execution_count": 11,
     "metadata": {},
     "output_type": "execute_result"
    }
   ],
   "source": [
    "torch.manual_seed(SEED)"
   ]
  },
  {
   "cell_type": "code",
   "execution_count": 12,
   "metadata": {
    "scrolled": true
   },
   "outputs": [
    {
     "data": {
      "text/html": [
       "<div>\n",
       "<style scoped>\n",
       "    .dataframe tbody tr th:only-of-type {\n",
       "        vertical-align: middle;\n",
       "    }\n",
       "\n",
       "    .dataframe tbody tr th {\n",
       "        vertical-align: top;\n",
       "    }\n",
       "\n",
       "    .dataframe thead th {\n",
       "        text-align: right;\n",
       "    }\n",
       "</style>\n",
       "<table border=\"1\" class=\"dataframe\">\n",
       "  <thead>\n",
       "    <tr style=\"text-align: right;\">\n",
       "      <th></th>\n",
       "      <th>subject_id</th>\n",
       "      <th>category</th>\n",
       "      <th>class</th>\n",
       "      <th>box</th>\n",
       "      <th>path</th>\n",
       "      <th>original</th>\n",
       "      <th>predicted_class</th>\n",
       "      <th>predicted_category</th>\n",
       "      <th>predicted_box</th>\n",
       "      <th>box_original</th>\n",
       "      <th>predicted_box_original</th>\n",
       "      <th>predicted_text</th>\n",
       "    </tr>\n",
       "  </thead>\n",
       "  <tbody>\n",
       "    <tr>\n",
       "      <th>0</th>\n",
       "      <td>2995300</td>\n",
       "      <td>typewritten</td>\n",
       "      <td>2</td>\n",
       "      <td>[231, 446, 368, 564]</td>\n",
       "      <td>data/train/2995300.jpg</td>\n",
       "      <td>data/images/2995300.jpg</td>\n",
       "      <td>2</td>\n",
       "      <td>typewritten</td>\n",
       "      <td>[228.21542 446.85278 369.32605 562.8112 ]</td>\n",
       "      <td>[924, 1784, 1472, 2256]</td>\n",
       "      <td>[913, 1787, 1477, 2251]</td>\n",
       "      <td>University of Arkansas Herbarium (UARK)\\nFlora...</td>\n",
       "    </tr>\n",
       "    <tr>\n",
       "      <th>1</th>\n",
       "      <td>4128323</td>\n",
       "      <td>typewritten</td>\n",
       "      <td>2</td>\n",
       "      <td>[156, 322, 250, 382]</td>\n",
       "      <td>data/train/4128323.jpg</td>\n",
       "      <td>data/images/4128323.jpg</td>\n",
       "      <td>2</td>\n",
       "      <td>typewritten</td>\n",
       "      <td>[156.92148 321.9174  248.3404  381.2727 ]</td>\n",
       "      <td>[624, 1288, 1000, 1528]</td>\n",
       "      <td>[628, 1288, 993, 1525]</td>\n",
       "      <td>APPALACHIAN STATE UNIVERSITY HERBARION\\nPLANTS...</td>\n",
       "    </tr>\n",
       "    <tr>\n",
       "      <th>2</th>\n",
       "      <td>4128517</td>\n",
       "      <td>handwritten</td>\n",
       "      <td>1</td>\n",
       "      <td>[155, 321, 248, 382]</td>\n",
       "      <td>data/train/4128517.jpg</td>\n",
       "      <td>data/images/4128517.jpg</td>\n",
       "      <td>2</td>\n",
       "      <td>typewritten</td>\n",
       "      <td>[157.88994 318.32904 246.69968 381.92596]</td>\n",
       "      <td>[620, 1284, 992, 1528]</td>\n",
       "      <td>[632, 1273, 987, 1528]</td>\n",
       "      <td>a .\\n\\nAPPALACHIAN STATE UNV ERSTHY EMIS RIA\\n...</td>\n",
       "    </tr>\n",
       "    <tr>\n",
       "      <th>3</th>\n",
       "      <td>11783370</td>\n",
       "      <td>handwritten</td>\n",
       "      <td>1</td>\n",
       "      <td>[552, 1225, 966, 1483]</td>\n",
       "      <td>data/train/11783370.jpg</td>\n",
       "      <td>data/images/11783370.jpg</td>\n",
       "      <td>2</td>\n",
       "      <td>typewritten</td>\n",
       "      <td>[ 545.6112 1229.2281  966.975  1483.6238]</td>\n",
       "      <td>[2208, 4900, 3864, 5932]</td>\n",
       "      <td>[2182, 4917, 3868, 5934]</td>\n",
       "      <td>AMARAA YHA CE AE\\nHERBARIUM\\nNORTHEAST LOUISIA...</td>\n",
       "    </tr>\n",
       "    <tr>\n",
       "      <th>4</th>\n",
       "      <td>11782469</td>\n",
       "      <td>typewritten</td>\n",
       "      <td>2</td>\n",
       "      <td>[612, 1182, 977, 1464]</td>\n",
       "      <td>data/train/11782469.jpg</td>\n",
       "      <td>data/images/11782469.jpg</td>\n",
       "      <td>2</td>\n",
       "      <td>typewritten</td>\n",
       "      <td>[ 610.1748  1182.5092   974.12897 1460.3987 ]</td>\n",
       "      <td>[2448, 4728, 3908, 5856]</td>\n",
       "      <td>[2441, 4730, 3897, 5842]</td>\n",
       "      <td>FLORA OF ARKANSAS\\nPoinsett County\\n\\nPOACEAE\\...</td>\n",
       "    </tr>\n",
       "  </tbody>\n",
       "</table>\n",
       "</div>"
      ],
      "text/plain": [
       "   subject_id     category  class                     box  \\\n",
       "0     2995300  typewritten      2    [231, 446, 368, 564]   \n",
       "1     4128323  typewritten      2    [156, 322, 250, 382]   \n",
       "2     4128517  handwritten      1    [155, 321, 248, 382]   \n",
       "3    11783370  handwritten      1  [552, 1225, 966, 1483]   \n",
       "4    11782469  typewritten      2  [612, 1182, 977, 1464]   \n",
       "\n",
       "                      path                  original  predicted_class  \\\n",
       "0   data/train/2995300.jpg   data/images/2995300.jpg                2   \n",
       "1   data/train/4128323.jpg   data/images/4128323.jpg                2   \n",
       "2   data/train/4128517.jpg   data/images/4128517.jpg                2   \n",
       "3  data/train/11783370.jpg  data/images/11783370.jpg                2   \n",
       "4  data/train/11782469.jpg  data/images/11782469.jpg                2   \n",
       "\n",
       "  predicted_category                                  predicted_box  \\\n",
       "0        typewritten      [228.21542 446.85278 369.32605 562.8112 ]   \n",
       "1        typewritten      [156.92148 321.9174  248.3404  381.2727 ]   \n",
       "2        typewritten      [157.88994 318.32904 246.69968 381.92596]   \n",
       "3        typewritten      [ 545.6112 1229.2281  966.975  1483.6238]   \n",
       "4        typewritten  [ 610.1748  1182.5092   974.12897 1460.3987 ]   \n",
       "\n",
       "               box_original    predicted_box_original  \\\n",
       "0   [924, 1784, 1472, 2256]   [913, 1787, 1477, 2251]   \n",
       "1   [624, 1288, 1000, 1528]    [628, 1288, 993, 1525]   \n",
       "2    [620, 1284, 992, 1528]    [632, 1273, 987, 1528]   \n",
       "3  [2208, 4900, 3864, 5932]  [2182, 4917, 3868, 5934]   \n",
       "4  [2448, 4728, 3908, 5856]  [2441, 4730, 3897, 5842]   \n",
       "\n",
       "                                      predicted_text  \n",
       "0  University of Arkansas Herbarium (UARK)\\nFlora...  \n",
       "1  APPALACHIAN STATE UNIVERSITY HERBARION\\nPLANTS...  \n",
       "2  a .\\n\\nAPPALACHIAN STATE UNV ERSTHY EMIS RIA\\n...  \n",
       "3  AMARAA YHA CE AE\\nHERBARIUM\\nNORTHEAST LOUISIA...  \n",
       "4  FLORA OF ARKANSAS\\nPoinsett County\\n\\nPOACEAE\\...  "
      ]
     },
     "execution_count": 12,
     "metadata": {},
     "output_type": "execute_result"
    }
   ],
   "source": [
    "trn_df = pd.read_csv(TRN_CSV, index_col='subject_id').reset_index()\n",
    "val_df = pd.read_csv(VAL_CSV, index_col='subject_id').reset_index()\n",
    "\n",
    "trn_df.head()"
   ]
  },
  {
   "cell_type": "code",
   "execution_count": 13,
   "metadata": {},
   "outputs": [],
   "source": [
    "model = torchvision.models.detection.fasterrcnn_resnet50_fpn(pretrained=True)\n",
    "\n",
    "in_features = model.roi_heads.box_predictor.cls_score.in_features\n",
    "\n",
    "model.roi_heads.box_predictor = FastRCNNPredictor(in_features, CLASSES)"
   ]
  },
  {
   "cell_type": "code",
   "execution_count": 14,
   "metadata": {},
   "outputs": [],
   "source": [
    "def get_transform(train):\n",
    "    transforms = [T.ToTensor()]\n",
    "    if train:\n",
    "        transforms.append(T.RandomHorizontalFlip(0.5))\n",
    "        transforms.append(T.RandomVerticalFlip(0.5))\n",
    "        transforms.append(T.RandomRotate())\n",
    "        transforms.append(T.ColorJitter(\n",
    "            brightness=0.25, contrast=0.25, saturation=0.25, hue=0.25))\n",
    "    return T.Compose(transforms)"
   ]
  },
  {
   "cell_type": "code",
   "execution_count": 15,
   "metadata": {},
   "outputs": [],
   "source": [
    "trn_dataset = LabelBabelDataset(trn_df, get_transform(train=True))\n",
    "val_dataset = LabelBabelDataset(val_df, get_transform(train=False))"
   ]
  },
  {
   "cell_type": "code",
   "execution_count": 16,
   "metadata": {},
   "outputs": [],
   "source": [
    "trn_loader = torch.utils.data.DataLoader(\n",
    "    trn_dataset, batch_size=1, shuffle=True, num_workers=4,\n",
    "    collate_fn=utils.collate_fn)\n",
    "\n",
    "val_loader = torch.utils.data.DataLoader(\n",
    "    val_dataset, batch_size=1, shuffle=False, num_workers=4,\n",
    "    collate_fn=utils.collate_fn)"
   ]
  },
  {
   "cell_type": "code",
   "execution_count": 17,
   "metadata": {},
   "outputs": [],
   "source": [
    "model.to(DEVICE)\n",
    "\n",
    "params = [p for p in model.parameters() if p.requires_grad]\n",
    "optimizer = torch.optim.SGD(\n",
    "    params, lr=0.005, momentum=0.9, weight_decay=0.0005)\n",
    "\n",
    "lr_scheduler = torch.optim.lr_scheduler.StepLR(\n",
    "    optimizer, step_size=5, gamma=0.1)"
   ]
  },
  {
   "cell_type": "code",
   "execution_count": 22,
   "metadata": {},
   "outputs": [
    {
     "data": {
      "text/plain": [
       "PosixPath('data/models/checkpoint_005.pth.tar')"
      ]
     },
     "execution_count": 22,
     "metadata": {},
     "output_type": "execute_result"
    }
   ],
   "source": [
    "last_checkpoint = sorted(MODEL_DIR.glob(CHECKPOINT.format('*')))[-1]\n",
    "\n",
    "state = torch.load(last_checkpoint)\n",
    "\n",
    "first_epoch = state['epoch']\n",
    "model.load_state_dict(state['state_dict'])\n",
    "optimizer.load_state_dict(state['optimizer'])\n",
    "\n",
    "last_checkpoint"
   ]
  },
  {
   "cell_type": "code",
   "execution_count": 23,
   "metadata": {},
   "outputs": [],
   "source": [
    "def save_state(epoch, model, optimizer):\n",
    "    state_path = MODEL_DIR / CHECKPOINT.format(str(epoch).zfill(3))\n",
    "    if state_path.exists():\n",
    "        return\n",
    "    state = {\n",
    "        'epoch': epoch + 1,\n",
    "        'state_dict': model.state_dict(),\n",
    "        'optimizer': optimizer.state_dict(),\n",
    "    }\n",
    "    torch.save(state, state_path)"
   ]
  },
  {
   "cell_type": "code",
   "execution_count": 24,
   "metadata": {
    "scrolled": true
   },
   "outputs": [],
   "source": [
    "def train_model():\n",
    "    for epoch in range(first_epoch, EPOCHS):\n",
    "        train_one_epoch(\n",
    "            model, optimizer, trn_loader, DEVICE, epoch, print_freq=100)\n",
    "        lr_scheduler.step()\n",
    "        evaluate(model, val_loader, device=DEVICE)\n",
    "        if state % 10 == 0:\n",
    "            save_state(epoch, model, optimizer)\n",
    "\n",
    "    save_state(epoch, model, optimizer)\n",
    "\n",
    "\n",
    "# train_model()"
   ]
  },
  {
   "cell_type": "code",
   "execution_count": null,
   "metadata": {},
   "outputs": [],
   "source": []
  }
 ],
 "metadata": {
  "kernelspec": {
   "display_name": "Python 3",
   "language": "python",
   "name": "python3"
  },
  "language_info": {
   "codemirror_mode": {
    "name": "ipython",
    "version": 3
   },
   "file_extension": ".py",
   "mimetype": "text/x-python",
   "name": "python",
   "nbconvert_exporter": "python",
   "pygments_lexer": "ipython3",
   "version": "3.8.0"
  },
  "toc": {
   "base_numbering": 1,
   "nav_menu": {},
   "number_sections": true,
   "sideBar": true,
   "skip_h1_title": false,
   "title_cell": "Table of Contents",
   "title_sidebar": "Contents",
   "toc_cell": false,
   "toc_position": {},
   "toc_section_display": true,
   "toc_window_display": false
  }
 },
 "nbformat": 4,
 "nbformat_minor": 2
}
