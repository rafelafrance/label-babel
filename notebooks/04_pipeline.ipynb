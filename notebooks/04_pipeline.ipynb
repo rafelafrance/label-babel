{
 "cells": [
  {
   "cell_type": "code",
   "execution_count": 1,
   "metadata": {},
   "outputs": [],
   "source": [
    "from pathlib import Path\n",
    "from shutil import rmtree\n",
    "import pdb\n",
    "\n",
    "from tqdm import tqdm\n",
    "from PIL import Image, ImageDraw, ImageFont\n",
    "import numpy as np\n",
    "import pandas as pd\n",
    "\n",
    "import torch\n",
    "import torchvision\n",
    "from torchvision.models.detection.faster_rcnn import FastRCNNPredictor\n",
    "\n",
    "import transforms as T\n",
    "import utils\n",
    "\n",
    "from label_babel_dataset import LabelBabelDataset"
   ]
  },
  {
   "cell_type": "code",
   "execution_count": 2,
   "metadata": {},
   "outputs": [],
   "source": [
    "DATA_DIR = Path('.') / 'data'\n",
    "\n",
    "TRN_DIR = DATA_DIR / 'train'\n",
    "VAL_DIR = DATA_DIR / 'valid'\n",
    "MODEL_DIR = DATA_DIR / 'models'\n",
    "HAND_DIR = DATA_DIR / 'handwritten'\n",
    "TYPE_DIR = DATA_DIR / 'typewritten'\n",
    "\n",
    "VAL_CSV = DATA_DIR / 'valid.csv'\n",
    "TRN_CSV = DATA_DIR / 'train.csv'\n",
    "\n",
    "BOX = 'box'\n",
    "CAT = 'category'\n",
    "ORI = 'original'\n",
    "PATH = 'path'\n",
    "CROP = 'predicted_box_original'\n",
    "CLASS = 'class'\n",
    "SUB_ID = 'subject_id'\n",
    "PRED_BOX = 'predicted_box'\n",
    "PRED_CAT = 'predicted_category'\n",
    "PRED_CLASS = 'predicted_class'\n",
    "\n",
    "DEVICE = torch.device('cuda')\n",
    "torch.backends.cudnn.benchmark = True\n",
    "\n",
    "HANDWRITTEN = 'handwritten'\n",
    "TYPEWRITTEN = 'typewritten'\n",
    "CATS = ['background', HANDWRITTEN, TYPEWRITTEN]\n",
    "CLASSES = len(CATS)\n",
    "\n",
    "CHECKPOINT = 'checkpoint_{}.pth.tar'\n",
    "\n",
    "SCALE = 4.0"
   ]
  },
  {
   "cell_type": "code",
   "execution_count": 3,
   "metadata": {},
   "outputs": [],
   "source": [
    "def load_df(df_path):\n",
    "    df = pd.read_csv(df_path, index_col='subject_id').reset_index()\n",
    "    df[PRED_CLASS] = None\n",
    "    df[PRED_CAT] = None\n",
    "    df[PRED_BOX] = None\n",
    "    df[CROP] = None\n",
    "    return df  # df.iloc[:2, :].copy()"
   ]
  },
  {
   "cell_type": "code",
   "execution_count": 4,
   "metadata": {},
   "outputs": [],
   "source": [
    "val_df = load_df(VAL_CSV)\n",
    "trn_df = load_df(TRN_CSV)"
   ]
  },
  {
   "cell_type": "code",
   "execution_count": 5,
   "metadata": {},
   "outputs": [],
   "source": [
    "model = torchvision.models.detection.fasterrcnn_resnet50_fpn(pretrained=True)\n",
    "\n",
    "in_features = model.roi_heads.box_predictor.cls_score.in_features\n",
    "\n",
    "model.roi_heads.box_predictor = FastRCNNPredictor(in_features, CLASSES)"
   ]
  },
  {
   "cell_type": "code",
   "execution_count": 6,
   "metadata": {},
   "outputs": [],
   "source": [
    "transforms = T.Compose([T.ToTensor()])\n",
    "\n",
    "val_dataset = LabelBabelDataset(val_df, transforms)\n",
    "trn_dataset = LabelBabelDataset(trn_df, transforms)"
   ]
  },
  {
   "cell_type": "code",
   "execution_count": 7,
   "metadata": {},
   "outputs": [],
   "source": [
    "model.to(DEVICE)\n",
    "model.eval();"
   ]
  },
  {
   "cell_type": "code",
   "execution_count": 8,
   "metadata": {},
   "outputs": [
    {
     "data": {
      "text/plain": [
       "5"
      ]
     },
     "execution_count": 8,
     "metadata": {},
     "output_type": "execute_result"
    }
   ],
   "source": [
    "last_checkpoint = sorted(MODEL_DIR.glob(CHECKPOINT.format('*')))[-1]\n",
    "\n",
    "state = torch.load(last_checkpoint)\n",
    "\n",
    "model.load_state_dict(state['state_dict'])\n",
    "\n",
    "state['epoch']"
   ]
  },
  {
   "cell_type": "code",
   "execution_count": 9,
   "metadata": {},
   "outputs": [
    {
     "name": "stderr",
     "output_type": "stream",
     "text": [
      "1216it [02:19,  8.70it/s]\n",
      "4865it [08:58,  9.03it/s]\n"
     ]
    }
   ],
   "source": [
    "def get_predictions(dataset, df):\n",
    "    for idx, (image, target) in tqdm(enumerate(dataset)):\n",
    "        with torch.no_grad():\n",
    "            prediction = model([image.to(DEVICE)])\n",
    "\n",
    "        p_class = 0\n",
    "        p_box = [0, 0, 0, 0]\n",
    "        if len(prediction[0]['labels'].cpu()):\n",
    "            p_class = prediction[0]['labels'].cpu()[0].numpy()\n",
    "            p_box = prediction[0]['boxes'].cpu()[0].numpy()\n",
    "\n",
    "        df.at[idx, PRED_BOX] = p_box\n",
    "        df.at[idx, PRED_CLASS] = p_class\n",
    "\n",
    "\n",
    "get_predictions(val_dataset, val_df)\n",
    "get_predictions(trn_dataset, trn_df)"
   ]
  },
  {
   "cell_type": "code",
   "execution_count": 10,
   "metadata": {},
   "outputs": [
    {
     "data": {
      "text/html": [
       "<div>\n",
       "<style scoped>\n",
       "    .dataframe tbody tr th:only-of-type {\n",
       "        vertical-align: middle;\n",
       "    }\n",
       "\n",
       "    .dataframe tbody tr th {\n",
       "        vertical-align: top;\n",
       "    }\n",
       "\n",
       "    .dataframe thead th {\n",
       "        text-align: right;\n",
       "    }\n",
       "</style>\n",
       "<table border=\"1\" class=\"dataframe\">\n",
       "  <thead>\n",
       "    <tr style=\"text-align: right;\">\n",
       "      <th></th>\n",
       "      <th>subject_id</th>\n",
       "      <th>category</th>\n",
       "      <th>class</th>\n",
       "      <th>box</th>\n",
       "      <th>path</th>\n",
       "      <th>original</th>\n",
       "      <th>predicted_class</th>\n",
       "      <th>predicted_category</th>\n",
       "      <th>predicted_box</th>\n",
       "      <th>predicted_text</th>\n",
       "      <th>predicted_box_original</th>\n",
       "    </tr>\n",
       "  </thead>\n",
       "  <tbody>\n",
       "    <tr>\n",
       "      <th>0</th>\n",
       "      <td>2995202</td>\n",
       "      <td>typewritten</td>\n",
       "      <td>2</td>\n",
       "      <td>[228, 459, 367, 568]</td>\n",
       "      <td>data/valid/2995202.jpg</td>\n",
       "      <td>data/images/2995202.jpg</td>\n",
       "      <td>2</td>\n",
       "      <td>typewritten</td>\n",
       "      <td>[230.9855, 463.58728, 365.75626, 570.29736]</td>\n",
       "      <td>FLORA OF ARK:\\n\\nCORNACEAE Cornus drummondii €...</td>\n",
       "      <td>None</td>\n",
       "    </tr>\n",
       "    <tr>\n",
       "      <th>1</th>\n",
       "      <td>2995203</td>\n",
       "      <td>typewritten</td>\n",
       "      <td>2</td>\n",
       "      <td>[238, 462, 377, 572]</td>\n",
       "      <td>data/valid/2995203.jpg</td>\n",
       "      <td>data/images/2995203.jpg</td>\n",
       "      <td>2</td>\n",
       "      <td>typewritten</td>\n",
       "      <td>[235.45955, 464.4702, 376.1618, 573.8489]</td>\n",
       "      <td>FLORA OF ARKANSAS.\\nCULTIVATED!\\nCORNACEAE\\n\\n...</td>\n",
       "      <td>None</td>\n",
       "    </tr>\n",
       "    <tr>\n",
       "      <th>2</th>\n",
       "      <td>2995205</td>\n",
       "      <td>typewritten</td>\n",
       "      <td>2</td>\n",
       "      <td>[252, 486, 373, 564]</td>\n",
       "      <td>data/valid/2995205.jpg</td>\n",
       "      <td>data/images/2995205.jpg</td>\n",
       "      <td>1</td>\n",
       "      <td>handwritten</td>\n",
       "      <td>[255.06477, 481.98413, 373.10254, 568.11176]</td>\n",
       "      <td>NaN</td>\n",
       "      <td>None</td>\n",
       "    </tr>\n",
       "    <tr>\n",
       "      <th>3</th>\n",
       "      <td>2995213</td>\n",
       "      <td>typewritten</td>\n",
       "      <td>2</td>\n",
       "      <td>[224, 474, 373, 566]</td>\n",
       "      <td>data/valid/2995213.jpg</td>\n",
       "      <td>data/images/2995213.jpg</td>\n",
       "      <td>2</td>\n",
       "      <td>typewritten</td>\n",
       "      <td>[224.79485, 476.49863, 370.26642, 565.2874]</td>\n",
       "      <td>CORNACEAE\\nHERBARIUM OF THE UNIVERSITY OF ARKA...</td>\n",
       "      <td>None</td>\n",
       "    </tr>\n",
       "    <tr>\n",
       "      <th>4</th>\n",
       "      <td>2995216</td>\n",
       "      <td>handwritten</td>\n",
       "      <td>1</td>\n",
       "      <td>[239, 462, 367, 562]</td>\n",
       "      <td>data/valid/2995216.jpg</td>\n",
       "      <td>data/images/2995216.jpg</td>\n",
       "      <td>1</td>\n",
       "      <td>handwritten</td>\n",
       "      <td>[235.82883, 460.7853, 369.38535, 562.74536]</td>\n",
       "      <td>NaN</td>\n",
       "      <td>None</td>\n",
       "    </tr>\n",
       "  </tbody>\n",
       "</table>\n",
       "</div>"
      ],
      "text/plain": [
       "   subject_id     category  class                   box  \\\n",
       "0     2995202  typewritten      2  [228, 459, 367, 568]   \n",
       "1     2995203  typewritten      2  [238, 462, 377, 572]   \n",
       "2     2995205  typewritten      2  [252, 486, 373, 564]   \n",
       "3     2995213  typewritten      2  [224, 474, 373, 566]   \n",
       "4     2995216  handwritten      1  [239, 462, 367, 562]   \n",
       "\n",
       "                     path                 original predicted_class  \\\n",
       "0  data/valid/2995202.jpg  data/images/2995202.jpg               2   \n",
       "1  data/valid/2995203.jpg  data/images/2995203.jpg               2   \n",
       "2  data/valid/2995205.jpg  data/images/2995205.jpg               1   \n",
       "3  data/valid/2995213.jpg  data/images/2995213.jpg               2   \n",
       "4  data/valid/2995216.jpg  data/images/2995216.jpg               1   \n",
       "\n",
       "  predicted_category                                 predicted_box  \\\n",
       "0        typewritten   [230.9855, 463.58728, 365.75626, 570.29736]   \n",
       "1        typewritten     [235.45955, 464.4702, 376.1618, 573.8489]   \n",
       "2        handwritten  [255.06477, 481.98413, 373.10254, 568.11176]   \n",
       "3        typewritten   [224.79485, 476.49863, 370.26642, 565.2874]   \n",
       "4        handwritten   [235.82883, 460.7853, 369.38535, 562.74536]   \n",
       "\n",
       "                                      predicted_text predicted_box_original  \n",
       "0  FLORA OF ARK:\\n\\nCORNACEAE Cornus drummondii €...                   None  \n",
       "1  FLORA OF ARKANSAS.\\nCULTIVATED!\\nCORNACEAE\\n\\n...                   None  \n",
       "2                                                NaN                   None  \n",
       "3  CORNACEAE\\nHERBARIUM OF THE UNIVERSITY OF ARKA...                   None  \n",
       "4                                                NaN                   None  "
      ]
     },
     "execution_count": 10,
     "metadata": {},
     "output_type": "execute_result"
    }
   ],
   "source": [
    "cats = pd.Series(CATS)\n",
    "\n",
    "trn_df[PRED_CAT] = trn_df[PRED_CLASS].astype(int).map(cats)\n",
    "val_df[PRED_CAT] = val_df[PRED_CLASS].astype(int).map(cats)\n",
    "\n",
    "val_df.head()"
   ]
  },
  {
   "cell_type": "code",
   "execution_count": 11,
   "metadata": {},
   "outputs": [],
   "source": [
    "rmtree(HAND_DIR, ignore_errors=True)\n",
    "rmtree(TYPE_DIR, ignore_errors=True)\n",
    "\n",
    "HAND_DIR.mkdir()\n",
    "TYPE_DIR.mkdir()"
   ]
  },
  {
   "cell_type": "code",
   "execution_count": 12,
   "metadata": {},
   "outputs": [
    {
     "name": "stderr",
     "output_type": "stream",
     "text": [
      "1216it [01:13, 16.50it/s]\n",
      "4865it [04:29, 18.05it/s]\n"
     ]
    }
   ],
   "source": [
    "def crop_image(df):\n",
    "    for idx, row in tqdm(df.iterrows()):\n",
    "        path = Path(row.at[ORI])\n",
    "        src = str(path)\n",
    "        dst = TYPE_DIR if row.at[PRED_CAT] == TYPEWRITTEN else HAND_DIR\n",
    "        dst = dst / path.name\n",
    "        box = [int(round(x * SCALE)) for x in row.at[PRED_BOX]]\n",
    "        df.at[idx, CROP] = box\n",
    "        if sum(x for x in box) == 0:\n",
    "            continue\n",
    "        image = Image.open(src).convert('RGB')\n",
    "        width, height = image.size\n",
    "        image = image.crop(box)\n",
    "        if width > height:\n",
    "            image = image.transpose(Image.ROTATE_270)\n",
    "        image.save(dst)\n",
    "\n",
    "\n",
    "crop_image(val_df)\n",
    "crop_image(trn_df)"
   ]
  },
  {
   "cell_type": "code",
   "execution_count": 13,
   "metadata": {},
   "outputs": [],
   "source": [
    "val_df.to_csv(VAL_CSV, index=False)\n",
    "trn_df.to_csv(TRN_CSV, index=False)"
   ]
  },
  {
   "cell_type": "code",
   "execution_count": null,
   "metadata": {},
   "outputs": [],
   "source": []
  }
 ],
 "metadata": {
  "kernelspec": {
   "display_name": "Python 3",
   "language": "python",
   "name": "python3"
  },
  "language_info": {
   "codemirror_mode": {
    "name": "ipython",
    "version": 3
   },
   "file_extension": ".py",
   "mimetype": "text/x-python",
   "name": "python",
   "nbconvert_exporter": "python",
   "pygments_lexer": "ipython3",
   "version": "3.9.0+"
  },
  "toc": {
   "base_numbering": 1,
   "nav_menu": {},
   "number_sections": true,
   "sideBar": true,
   "skip_h1_title": false,
   "title_cell": "Table of Contents",
   "title_sidebar": "Contents",
   "toc_cell": false,
   "toc_position": {},
   "toc_section_display": true,
   "toc_window_display": false
  },
  "varInspector": {
   "cols": {
    "lenName": 16,
    "lenType": 16,
    "lenVar": 40
   },
   "kernels_config": {
    "python": {
     "delete_cmd_postfix": "",
     "delete_cmd_prefix": "del ",
     "library": "var_list.py",
     "varRefreshCmd": "print(var_dic_list())"
    },
    "r": {
     "delete_cmd_postfix": ") ",
     "delete_cmd_prefix": "rm(",
     "library": "var_list.r",
     "varRefreshCmd": "cat(var_dic_list()) "
    }
   },
   "types_to_exclude": [
    "module",
    "function",
    "builtin_function_or_method",
    "instance",
    "_Feature"
   ],
   "window_display": false
  }
 },
 "nbformat": 4,
 "nbformat_minor": 2
}
