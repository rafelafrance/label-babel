{
 "cells": [
  {
   "cell_type": "code",
   "execution_count": 1,
   "metadata": {},
   "outputs": [],
   "source": [
    "%matplotlib inline\n",
    "# %matplotlib notebook\n",
    "\n",
    "import os\n",
    "from os.path import splitext\n",
    "from pathlib import Path\n",
    "import json\n",
    "\n",
    "# from tqdm import tqdm\n",
    "from ipywidgets import interact\n",
    "\n",
    "from PIL import Image, ImageDraw\n",
    "import pandas as pd\n",
    "import matplotlib.pyplot as plt\n",
    "import matplotlib.patches as patches"
   ]
  },
  {
   "cell_type": "code",
   "execution_count": 2,
   "metadata": {},
   "outputs": [],
   "source": [
    "IMG_DIR = Path('.') / 'data' / 'images'\n",
    "EXP_DIR = Path('.') / 'data' / 'expedition'\n",
    "\n",
    "RECON_CSV = EXP_DIR / '8296_label_babel.reconciled.csv'\n",
    "UNREC_CSV = EXP_DIR / '8296_label_babel.unreconciled.csv'\n",
    "\n",
    "BOX_HEADER = 'Rectangle around the primary label.: box'\n",
    "SEL_HEADER = 'Rectangle around the primary label.: select'\n",
    "\n",
    "SUB = 'subject_id'\n",
    "BOX = 'box'\n",
    "SEL = 'select'\n",
    "RECON = 'reconciled'\n",
    "\n",
    "LFT = 'left'\n",
    "RGT = 'right'\n",
    "TOP = 'top'\n",
    "BOT = 'bottom'\n",
    "\n",
    "TARGET_SIZE = (224, 224)\n",
    "# TARGET_SIZE = (512, 512)"
   ]
  },
  {
   "cell_type": "code",
   "execution_count": 3,
   "metadata": {},
   "outputs": [],
   "source": [
    "images = next(os.walk(IMG_DIR))[2]"
   ]
  },
  {
   "cell_type": "code",
   "execution_count": null,
   "metadata": {},
   "outputs": [],
   "source": [
    "boxes = pd.read_csv(RECON_CSV)\n",
    "boxes = boxes.rename(columns={\n",
    "    BOX_HEADER: BOX,\n",
    "    SEL_HEADER: SEL})\n",
    "boxes = boxes.loc[:, [SUB, BOX, SEL]]\n",
    "boxes = boxes.set_index(SUB)"
   ]
  },
  {
   "cell_type": "code",
   "execution_count": null,
   "metadata": {
    "scrolled": false
   },
   "outputs": [
    {
     "data": {
      "application/vnd.jupyter.widget-view+json": {
       "model_id": "05d931c456b647afba577696e57dd70c",
       "version_major": 2,
       "version_minor": 0
      },
      "text/plain": [
       "interactive(children=(IntSlider(value=3042, description='idx', max=6085), Output()), _dom_classes=('widget-int…"
      ]
     },
     "metadata": {},
     "output_type": "display_data"
    }
   ],
   "source": [
    "def show_image(idx):\n",
    "    \"\"\"Display the image and its mask.\"\"\"\n",
    "    subject_id = int(splitext(images[idx])[0])\n",
    "\n",
    "    path = IMG_DIR / images[idx]\n",
    "    image = plt.imread(path)\n",
    "\n",
    "    fig, ax = plt.subplots(figsize=(10, 10))\n",
    "\n",
    "    print(image.shape)\n",
    "\n",
    "    rec = boxes.loc[subject_id, :]\n",
    "    box = json.loads(rec.at[BOX])\n",
    "    x = box[LFT]\n",
    "    y = box[TOP]\n",
    "    wide = box[RGT] - box[LFT]\n",
    "    high = box[BOT] - box[TOP]\n",
    "    rect = patches.Rectangle(\n",
    "        (x, y), wide, high,\n",
    "        linewidth=1, edgecolor='r', facecolor='none')\n",
    "\n",
    "    ax.imshow(image)\n",
    "    ax.add_patch(rect)\n",
    "\n",
    "\n",
    "interact(show_image, idx=(0, len(images) - 1))\n",
    "# show_image(3042)"
   ]
  },
  {
   "cell_type": "code",
   "execution_count": null,
   "metadata": {},
   "outputs": [],
   "source": [
    "def scale_image(idx):\n",
    "    \"\"\"Display the image and its mask.\"\"\"\n",
    "    subject_id = int(splitext(images[idx])[0])\n",
    "\n",
    "    path = IMG_DIR / images[idx]\n",
    "    image = Image.open(path)\n",
    "\n",
    "    size = image.size\n",
    "    image = image.resize(TARGET_SIZE)\n",
    "\n",
    "    scale_x = TARGET_SIZE[0] / size[0]\n",
    "    scale_y = TARGET_SIZE[1] / size[1]\n",
    "\n",
    "    print(scale_x, scale_y)\n",
    "    rec = boxes.loc[subject_id, :]\n",
    "    box = json.loads(rec.at[BOX])\n",
    "    x0 = box[LFT] * scale_x\n",
    "    y0 = box[TOP] * scale_y\n",
    "    x1 = box[RGT] * scale_x\n",
    "    y1 = box[BOT] * scale_y\n",
    "    draw = ImageDraw.Draw(image)\n",
    "    draw.rectangle([x0, y0, x1, y1], outline='#ff0000')\n",
    "\n",
    "    plt.figure(figsize=(10, 10))\n",
    "    plt.imshow(image)\n",
    "\n",
    "\n",
    "interact(scale_image, idx=(0, len(images) - 1))\n",
    "# show_image(3042)"
   ]
  },
  {
   "cell_type": "code",
   "execution_count": null,
   "metadata": {},
   "outputs": [],
   "source": []
  },
  {
   "cell_type": "code",
   "execution_count": null,
   "metadata": {},
   "outputs": [],
   "source": []
  },
  {
   "cell_type": "code",
   "execution_count": null,
   "metadata": {},
   "outputs": [],
   "source": []
  },
  {
   "cell_type": "code",
   "execution_count": null,
   "metadata": {},
   "outputs": [],
   "source": []
  },
  {
   "cell_type": "code",
   "execution_count": null,
   "metadata": {},
   "outputs": [],
   "source": []
  },
  {
   "cell_type": "code",
   "execution_count": null,
   "metadata": {},
   "outputs": [],
   "source": []
  },
  {
   "cell_type": "code",
   "execution_count": null,
   "metadata": {},
   "outputs": [],
   "source": []
  },
  {
   "cell_type": "code",
   "execution_count": null,
   "metadata": {},
   "outputs": [],
   "source": []
  },
  {
   "cell_type": "code",
   "execution_count": null,
   "metadata": {},
   "outputs": [],
   "source": []
  },
  {
   "cell_type": "code",
   "execution_count": null,
   "metadata": {},
   "outputs": [],
   "source": []
  }
 ],
 "metadata": {
  "kernelspec": {
   "display_name": "Python 3",
   "language": "python",
   "name": "python3"
  },
  "language_info": {
   "codemirror_mode": {
    "name": "ipython",
    "version": 3
   },
   "file_extension": ".py",
   "mimetype": "text/x-python",
   "name": "python",
   "nbconvert_exporter": "python",
   "pygments_lexer": "ipython3",
   "version": "3.6.7"
  }
 },
 "nbformat": 4,
 "nbformat_minor": 2
}
