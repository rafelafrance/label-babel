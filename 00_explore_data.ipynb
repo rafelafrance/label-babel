{
 "cells": [
  {
   "cell_type": "code",
   "execution_count": 1,
   "metadata": {},
   "outputs": [],
   "source": [
    "%matplotlib inline\n",
    "# %matplotlib notebook\n",
    "\n",
    "import os\n",
    "from os.path import splitext\n",
    "from pathlib import Path\n",
    "import json\n",
    "\n",
    "# from tqdm import tqdm\n",
    "from ipywidgets import interact\n",
    "\n",
    "from PIL import Image, ImageDraw\n",
    "import pandas as pd\n",
    "import matplotlib.pyplot as plt\n",
    "import matplotlib.patches as patches"
   ]
  },
  {
   "cell_type": "code",
   "execution_count": 2,
   "metadata": {},
   "outputs": [],
   "source": [
    "IMG_DIR = Path('.') / 'data' / 'images'\n",
    "EXP_DIR = Path('.') / 'data' / 'expedition'\n",
    "\n",
    "RECON_CSV = EXP_DIR / '8296_label_babel.reconciled.csv'\n",
    "UNREC_CSV = EXP_DIR / '8296_label_babel.unreconciled.csv'\n",
    "\n",
    "BOX_HEADER = 'Rectangle around the primary label.: box'\n",
    "SEL_HEADER = 'Rectangle around the primary label.: select'\n",
    "\n",
    "SUB = 'subject_id'\n",
    "BOX = 'box'\n",
    "SEL = 'select'\n",
    "RECON = 'reconciled'\n",
    "\n",
    "LFT = 'left'\n",
    "RGT = 'right'\n",
    "TOP = 'top'\n",
    "BOT = 'bottom'\n",
    "\n",
    "# SIZE = 224\n",
    "SIZE = 299\n",
    "# SIZE = 512"
   ]
  },
  {
   "cell_type": "code",
   "execution_count": 3,
   "metadata": {},
   "outputs": [
    {
     "ename": "StopIteration",
     "evalue": "",
     "output_type": "error",
     "traceback": [
      "\u001b[0;31m---------------------------------------------------------------------------\u001b[0m",
      "\u001b[0;31mStopIteration\u001b[0m                             Traceback (most recent call last)",
      "\u001b[0;32m<ipython-input-3-a1cdd9fe9083>\u001b[0m in \u001b[0;36m<module>\u001b[0;34m\u001b[0m\n\u001b[0;32m----> 1\u001b[0;31m \u001b[0mimages\u001b[0m \u001b[0;34m=\u001b[0m \u001b[0mnext\u001b[0m\u001b[0;34m(\u001b[0m\u001b[0mos\u001b[0m\u001b[0;34m.\u001b[0m\u001b[0mwalk\u001b[0m\u001b[0;34m(\u001b[0m\u001b[0mIMG_DIR\u001b[0m\u001b[0;34m)\u001b[0m\u001b[0;34m)\u001b[0m\u001b[0;34m[\u001b[0m\u001b[0;36m2\u001b[0m\u001b[0;34m]\u001b[0m\u001b[0;34m\u001b[0m\u001b[0;34m\u001b[0m\u001b[0m\n\u001b[0m",
      "\u001b[0;31mStopIteration\u001b[0m: "
     ]
    }
   ],
   "source": [
    "images = next(os.walk(IMG_DIR))[2]"
   ]
  },
  {
   "cell_type": "code",
   "execution_count": 4,
   "metadata": {},
   "outputs": [],
   "source": [
    "boxes = pd.read_csv(RECON_CSV)\n",
    "boxes = boxes.rename(columns={\n",
    "    BOX_HEADER: BOX,\n",
    "    SEL_HEADER: SEL})\n",
    "boxes = boxes.loc[:, [SUB, BOX, SEL]]\n",
    "boxes = boxes.set_index(SUB)"
   ]
  },
  {
   "cell_type": "code",
   "execution_count": 5,
   "metadata": {
    "scrolled": false
   },
   "outputs": [
    {
     "data": {
      "application/vnd.jupyter.widget-view+json": {
       "model_id": "02e85a2e7a5d481a8853f69ea0aac166",
       "version_major": 2,
       "version_minor": 0
      },
      "text/plain": [
       "interactive(children=(IntSlider(value=3042, description='idx', max=6085), Output()), _dom_classes=('widget-int…"
      ]
     },
     "metadata": {},
     "output_type": "display_data"
    },
    {
     "data": {
      "text/plain": [
       "<function __main__.show_image(idx)>"
      ]
     },
     "execution_count": 5,
     "metadata": {},
     "output_type": "execute_result"
    }
   ],
   "source": [
    "def show_image(idx):\n",
    "    \"\"\"Display the image and its mask.\"\"\"\n",
    "    subject_id = int(splitext(images[idx])[0])\n",
    "\n",
    "    path = IMG_DIR / images[idx]\n",
    "    image = plt.imread(path)\n",
    "\n",
    "    fig, ax = plt.subplots(figsize=(10, 10))\n",
    "\n",
    "    print(image.shape)\n",
    "\n",
    "    rec = boxes.loc[subject_id, :]\n",
    "    box = json.loads(rec.at[BOX])\n",
    "    x = box[LFT]\n",
    "    y = box[TOP]\n",
    "    wide = box[RGT] - box[LFT]\n",
    "    high = box[BOT] - box[TOP]\n",
    "    rect = patches.Rectangle(\n",
    "        (x, y), wide, high,\n",
    "        linewidth=1, edgecolor='r', facecolor='none')\n",
    "\n",
    "    ax.imshow(image)\n",
    "    ax.add_patch(rect)\n",
    "\n",
    "\n",
    "interact(show_image, idx=(0, len(images) - 1))\n",
    "# show_image(3042)"
   ]
  },
  {
   "cell_type": "code",
   "execution_count": 13,
   "metadata": {},
   "outputs": [
    {
     "data": {
      "application/vnd.jupyter.widget-view+json": {
       "model_id": "e90f11bda7b3415795f67cc12dc78b92",
       "version_major": 2,
       "version_minor": 0
      },
      "text/plain": [
       "interactive(children=(IntSlider(value=3042, description='idx', max=6085), Output()), _dom_classes=('widget-int…"
      ]
     },
     "metadata": {},
     "output_type": "display_data"
    },
    {
     "data": {
      "text/plain": [
       "<function __main__.transform_image(idx)>"
      ]
     },
     "execution_count": 13,
     "metadata": {},
     "output_type": "execute_result"
    }
   ],
   "source": [
    "def transform_image(idx):\n",
    "    \"\"\"Display the image and its mask.\"\"\"\n",
    "    subject_id = int(splitext(images[idx])[0])\n",
    "\n",
    "    path = IMG_DIR / images[idx]\n",
    "    image = Image.open(path)\n",
    "\n",
    "    rec = boxes.loc[subject_id, :]\n",
    "    box = json.loads(rec.at[BOX])\n",
    "\n",
    "    size = image.size\n",
    "    image = image.resize((SIZE, SIZE))\n",
    "\n",
    "    scale_x = SIZE / size[0]\n",
    "    scale_y = SIZE / size[1]\n",
    "    \n",
    "    x0 = box[LFT] * scale_x\n",
    "    y0 = box[TOP] * scale_y\n",
    "    x1 = box[RGT] * scale_x\n",
    "    y1 = box[BOT] * scale_y\n",
    "    \n",
    "    image = image.transpose(Image.FLIP_TOP_BOTTOM)\n",
    "    image = image.transpose(Image.ROTATE_90)\n",
    "\n",
    "    # x0, y0, x1, y1 =  SIZE - x1, y0, SIZE - x0, y1  # FLIP_LEFT_RIGHT\n",
    "    x0, y0, x1, y1 =  x0, SIZE - y1, x1, SIZE - y0  # FLIP_TOP_BOTTOM\n",
    "    x0, y0, x1, y1 = y0, SIZE - x0, y1, SIZE - x1  # ROTATE_90\n",
    "    # x0, y0, x1, y1 =  SIZE - x0, SIZE - y0, SIZE - x1, SIZE - y1  # ROTATE_180\n",
    "    # x0, y0, x1, y1 =  SIZE - y0, x0, SIZE - y1, x1  # ROTATE_270\n",
    "    \n",
    "    draw = ImageDraw.Draw(image)\n",
    "    draw.rectangle([x0, y0, x1, y1], outline='#ff0000')\n",
    "\n",
    "    plt.figure(figsize=(10, 10))\n",
    "    plt.imshow(image)\n",
    "\n",
    "\n",
    "interact(transform_image, idx=(0, len(images) - 1))\n",
    "# show_image(3042)"
   ]
  },
  {
   "cell_type": "code",
   "execution_count": null,
   "metadata": {},
   "outputs": [],
   "source": []
  },
  {
   "cell_type": "code",
   "execution_count": null,
   "metadata": {},
   "outputs": [],
   "source": []
  },
  {
   "cell_type": "code",
   "execution_count": null,
   "metadata": {},
   "outputs": [],
   "source": []
  },
  {
   "cell_type": "code",
   "execution_count": null,
   "metadata": {},
   "outputs": [],
   "source": []
  },
  {
   "cell_type": "code",
   "execution_count": null,
   "metadata": {},
   "outputs": [],
   "source": []
  },
  {
   "cell_type": "code",
   "execution_count": null,
   "metadata": {},
   "outputs": [],
   "source": []
  },
  {
   "cell_type": "code",
   "execution_count": null,
   "metadata": {},
   "outputs": [],
   "source": []
  },
  {
   "cell_type": "code",
   "execution_count": null,
   "metadata": {},
   "outputs": [],
   "source": []
  },
  {
   "cell_type": "code",
   "execution_count": null,
   "metadata": {},
   "outputs": [],
   "source": []
  },
  {
   "cell_type": "code",
   "execution_count": null,
   "metadata": {},
   "outputs": [],
   "source": []
  }
 ],
 "metadata": {
  "kernelspec": {
   "display_name": "Python 3",
   "language": "python",
   "name": "python3"
  },
  "language_info": {
   "codemirror_mode": {
    "name": "ipython",
    "version": 3
   },
   "file_extension": ".py",
   "mimetype": "text/x-python",
   "name": "python",
   "nbconvert_exporter": "python",
   "pygments_lexer": "ipython3",
   "version": "3.6.7"
  }
 },
 "nbformat": 4,
 "nbformat_minor": 2
}
